{
 "cells": [
  {
   "cell_type": "code",
   "execution_count": null,
   "metadata": {
    "colab": {
     "height": 143
    },
    "executionInfo": {
     "elapsed": 4499,
     "status": "ok",
     "timestamp": 1631683144844,
     "user": {
      "displayName": "Chu-Ming Chang",
      "photoUrl": "https://lh3.googleusercontent.com/a-/AOh14GhX3zgYH_Dy7b1zoaMR1IikJtqdvp5AZwruZwVmNw=s64",
      "userId": "03946152854230403908"
     },
     "user_tz": 420
    },
    "id": "a2GZ9IRoouc0",
    "outputId": "ed5b54e2-1aa2-4ee8-b5f5-a6e34b3d241f"
   },
   "outputs": [
    {
     "name": "stdout",
     "output_type": "stream",
     "text": [
      "/bin/sh: line 1: None: command not found\n",
      "/bin/sh: line 1: None: command not found\n",
      "/bin/sh: line 1: None: command not found\n",
      "/bin/sh: line 1: None: command not found\n"
     ]
    },
    {
     "data": {
      "text/html": [
       "\n",
       "     <input type=\"file\" id=\"files-4c47153f-32b6-4f41-a42a-d0b590d92a7c\" name=\"files[]\" multiple disabled\n",
       "        style=\"border:none\" />\n",
       "     <output id=\"result-4c47153f-32b6-4f41-a42a-d0b590d92a7c\">\n",
       "      Upload widget is only available when the cell has been executed in the\n",
       "      current browser session. Please rerun this cell to enable.\n",
       "      </output>\n",
       "      <script src=\"/nbextensions/google.colab/files.js\"></script> "
      ],
      "text/plain": [
       "<IPython.core.display.HTML at 0x7fd86f6a93d0>"
      ]
     },
     "metadata": {},
     "output_type": "display_data"
    },
    {
     "name": "stdout",
     "output_type": "stream",
     "text": [
      "Saving flowdata.xlsx to flowdata (4).xlsx\n"
     ]
    }
   ],
   "source": [
    "from google.colab import files\n",
    "uploaded = files.upload()\n",
    "import time\n",
    "import sys\n",
    "!{sys.executable} -m pip install numpy\n",
    "!{sys.executable} -m pip install pandas\n",
    "!{sys.executable} -m pip install openpyxl\n",
    "!{sys.executable} -m pip install matplotlib\n",
    "import numpy as np\n",
    "import pandas as pd\n",
    "flowdata = pd.read_excel(r'./flowdata_2017.xlsx', sheet_name='Scenario1')\n",
    "d2 = pd.read_excel(r'./flowdata_2017.xlsx', sheet_name='Scenario2')\n",
    "d3 = pd.read_excel(r'./flowdata_2017.xlsx', sheet_name='Scenario3')\n",
    "d4 = pd.read_excel(r'./flowdata_2017.xlsx', sheet_name='Scenario5')\n",
    "flowdata = flowdata.append(d2, ignore_index=True)\n",
    "flowdata = flowdata.append(d3, ignore_index=True)\n",
    "flowdata = flowdata.append(d4, ignore_index=True)\n",
    "flowdata = flowdata[['KTB', 'KTC', 'SKB', 'SKC']] # ensure columns ordering is correct"
   ]
  },
  {
   "cell_type": "markdown",
   "metadata": {
    "id": "d1u3vH_Gouc7"
   },
   "source": [
    "**Equation**:\n",
    "$$w\\times KTB+x\\times KTC-y\\times SKB-z\\times SKC = m = KTB + KTC - SKB - SKC$$\n",
    "\n",
    "where *m* is the observed mismatch between JRWW and SKL\n",
    "- Each set of flow values observed for KTB, KTC, SKB, SKC can be geometrically represented as a line in 4-dimensional space mapped by w, x, y, z\n",
    "\n",
    "$$w\\times KTB+x\\times KTC-y\\times SKB-z\\times SKC-(KTB + KTC - SKB - SKC)=0$$\n",
    "\n",
    "- By iterating through *test_values* for w, x, y, z, we find the point (w,x,y,z) that minimises the mean distance between (w,x,y,z) and all the lines\n",
    "\n",
    "$$\\sum distance = \\sum\\frac{|w\\times KTB+x\\times KTC-y\\times SKB-z\\times SKC-(KTB + KTC - SKB - SKC)|}{\\sqrt{KTB^2+KTC^2+SKB^2+SKC^2}}$$\n",
    "\n",
    "- Find *num_results* number of sample points that provide the *num_results* lowest mean distances\n",
    "- Each of w, x, y, z is equal to $\\frac{E}{1+E}$ where E is the actual flowmeter error"
   ]
  },
  {
   "cell_type": "code",
   "execution_count": null,
   "metadata": {
    "colab": {
     "height": 417
    },
    "executionInfo": {
     "elapsed": 61,
     "status": "ok",
     "timestamp": 1631683148893,
     "user": {
      "displayName": "Chu-Ming Chang",
      "photoUrl": "https://lh3.googleusercontent.com/a-/AOh14GhX3zgYH_Dy7b1zoaMR1IikJtqdvp5AZwruZwVmNw=s64",
      "userId": "03946152854230403908"
     },
     "user_tz": 420
    },
    "id": "6WwTX4hdouc_",
    "outputId": "21b86da1-5c2d-4d3c-842f-418cf0648cc6"
   },
   "outputs": [
    {
     "data": {
      "text/html": [
       "<div>\n",
       "<style scoped>\n",
       "    .dataframe tbody tr th:only-of-type {\n",
       "        vertical-align: middle;\n",
       "    }\n",
       "\n",
       "    .dataframe tbody tr th {\n",
       "        vertical-align: top;\n",
       "    }\n",
       "\n",
       "    .dataframe thead th {\n",
       "        text-align: right;\n",
       "    }\n",
       "</style>\n",
       "<table border=\"1\" class=\"dataframe\">\n",
       "  <thead>\n",
       "    <tr style=\"text-align: right;\">\n",
       "      <th></th>\n",
       "      <th>KTB</th>\n",
       "      <th>KTC</th>\n",
       "      <th>SKB</th>\n",
       "      <th>SKC</th>\n",
       "    </tr>\n",
       "  </thead>\n",
       "  <tbody>\n",
       "    <tr>\n",
       "      <th>0</th>\n",
       "      <td>0.0</td>\n",
       "      <td>390.7</td>\n",
       "      <td>0.0</td>\n",
       "      <td>391.7</td>\n",
       "    </tr>\n",
       "    <tr>\n",
       "      <th>1</th>\n",
       "      <td>0.0</td>\n",
       "      <td>388.2</td>\n",
       "      <td>0.0</td>\n",
       "      <td>388.4</td>\n",
       "    </tr>\n",
       "    <tr>\n",
       "      <th>2</th>\n",
       "      <td>0.0</td>\n",
       "      <td>408.9</td>\n",
       "      <td>0.0</td>\n",
       "      <td>407.2</td>\n",
       "    </tr>\n",
       "    <tr>\n",
       "      <th>3</th>\n",
       "      <td>0.0</td>\n",
       "      <td>413.1</td>\n",
       "      <td>0.0</td>\n",
       "      <td>407.5</td>\n",
       "    </tr>\n",
       "    <tr>\n",
       "      <th>4</th>\n",
       "      <td>0.0</td>\n",
       "      <td>408.3</td>\n",
       "      <td>0.0</td>\n",
       "      <td>400.8</td>\n",
       "    </tr>\n",
       "    <tr>\n",
       "      <th>...</th>\n",
       "      <td>...</td>\n",
       "      <td>...</td>\n",
       "      <td>...</td>\n",
       "      <td>...</td>\n",
       "    </tr>\n",
       "    <tr>\n",
       "      <th>61</th>\n",
       "      <td>466.5</td>\n",
       "      <td>388.9</td>\n",
       "      <td>473.7</td>\n",
       "      <td>382.7</td>\n",
       "    </tr>\n",
       "    <tr>\n",
       "      <th>62</th>\n",
       "      <td>455.6</td>\n",
       "      <td>397.0</td>\n",
       "      <td>463.6</td>\n",
       "      <td>388.8</td>\n",
       "    </tr>\n",
       "    <tr>\n",
       "      <th>63</th>\n",
       "      <td>462.6</td>\n",
       "      <td>393.9</td>\n",
       "      <td>470.2</td>\n",
       "      <td>387.0</td>\n",
       "    </tr>\n",
       "    <tr>\n",
       "      <th>64</th>\n",
       "      <td>455.9</td>\n",
       "      <td>399.5</td>\n",
       "      <td>462.3</td>\n",
       "      <td>391.1</td>\n",
       "    </tr>\n",
       "    <tr>\n",
       "      <th>65</th>\n",
       "      <td>459.9</td>\n",
       "      <td>403.3</td>\n",
       "      <td>467.0</td>\n",
       "      <td>395.1</td>\n",
       "    </tr>\n",
       "  </tbody>\n",
       "</table>\n",
       "<p>66 rows × 4 columns</p>\n",
       "</div>"
      ],
      "text/plain": [
       "      KTB    KTC    SKB    SKC\n",
       "0     0.0  390.7    0.0  391.7\n",
       "1     0.0  388.2    0.0  388.4\n",
       "2     0.0  408.9    0.0  407.2\n",
       "3     0.0  413.1    0.0  407.5\n",
       "4     0.0  408.3    0.0  400.8\n",
       "..    ...    ...    ...    ...\n",
       "61  466.5  388.9  473.7  382.7\n",
       "62  455.6  397.0  463.6  388.8\n",
       "63  462.6  393.9  470.2  387.0\n",
       "64  455.9  399.5  462.3  391.1\n",
       "65  459.9  403.3  467.0  395.1\n",
       "\n",
       "[66 rows x 4 columns]"
      ]
     },
     "execution_count": 2,
     "metadata": {},
     "output_type": "execute_result"
    }
   ],
   "source": [
    "flowdata"
   ]
  },
  {
   "cell_type": "markdown",
   "metadata": {
    "id": "7rO_QBMpoudA"
   },
   "source": [
    "**Adjustable Parameters:**"
   ]
  },
  {
   "cell_type": "code",
   "execution_count": null,
   "metadata": {
    "id": "lJDGVRBCoudB"
   },
   "outputs": [],
   "source": [
    "# number of results to display at the end\n",
    "num_results = 100\n",
    "# error upper bound, lower bound and interval (in %)\n",
    "lower_bound_error = -4\n",
    "upper_bound_error = 4\n",
    "error_interval = 0.05"
   ]
  },
  {
   "cell_type": "markdown",
   "metadata": {
    "id": "4c7-HjFeoudC"
   },
   "source": [
    "***"
   ]
  },
  {
   "cell_type": "code",
   "execution_count": null,
   "metadata": {
    "executionInfo": {
     "elapsed": 56,
     "status": "ok",
     "timestamp": 1631683173375,
     "user": {
      "displayName": "Chu-Ming Chang",
      "photoUrl": "https://lh3.googleusercontent.com/a-/AOh14GhX3zgYH_Dy7b1zoaMR1IikJtqdvp5AZwruZwVmNw=s64",
      "userId": "03946152854230403908"
     },
     "user_tz": 420
    },
    "id": "WHgfDXbIoudC",
    "outputId": "01cdf231-56aa-4931-e634-c6890028c75c"
   },
   "outputs": [
    {
     "name": "stdout",
     "output_type": "stream",
     "text": [
      "(161,)\n",
      "(100, 5)\n"
     ]
    }
   ],
   "source": [
    "# initialisation\n",
    "test_values = np.arange(lower_bound_error/error_interval, upper_bound_error/error_interval + 1)/(100/error_interval)\n",
    "# introduce offset to ensure that every value is unique\n",
    "results_array = [[0, 0, 0, 0, 999999 - row_num] for row_num in range(num_results)]\n",
    "results = pd.DataFrame(results_array, columns=['KTB E1(%)', 'KTC E2(%)', 'SKB E3(%)', 'SKC E4(%)', 'Mean Distance'])\n",
    "print(test_values.shape)\n",
    "print(results.shape)"
   ]
  },
  {
   "cell_type": "code",
   "execution_count": null,
   "metadata": {
    "id": "WumnIumUoudF"
   },
   "outputs": [],
   "source": [
    "# prepare raw data\n",
    "flowdata_temp = flowdata\n",
    "# change the sign of SKB and SKC columns for simpler arithmetic\n",
    "flowdata_temp['SKB'] *= -1\n",
    "flowdata_temp['SKC'] *= -1\n",
    "flowdata_array = flowdata_temp.to_numpy()"
   ]
  },
  {
   "cell_type": "markdown",
   "metadata": {
    "id": "Y5_fxlh3oudJ"
   },
   "source": [
    "The following algorithm attempts to find the best values of flowmeter errors E1, E2, E3, E4 that minimise the mean euclidean distance between the final solution point and the lines formed by all the data provided. The *num_results* best solutions are stored and displayed below."
   ]
  },
  {
   "cell_type": "code",
   "execution_count": null,
   "metadata": {
    "id": "XABZjH8HoudN"
   },
   "outputs": [],
   "source": [
    "# %%time\n",
    "# # main algorithm\n",
    "# for E1 in test_values:\n",
    "#     w = E1/(1+E1)\n",
    "#     for E2 in test_values:\n",
    "#         x = E2/(1+E2)\n",
    "#         for E3 in test_values:\n",
    "#             y = E3/(1+E3)\n",
    "#             for E4 in test_values:\n",
    "#                 z = E4/(1+E4)\n",
    "#                 mean_dist = 0\n",
    "#                 for params in flowdata_array:\n",
    "#                     counter += 1\n",
    "#                     m = sum(params) # mismatch\n",
    "#                     dist = abs(np.dot(params, [w,x,y,z]) - m)/np.linalg.norm(params)\n",
    "#                     mean_dist += dist\n",
    "#                 mean_dist /= len(flowdata_array)\n",
    "#                 if mean_dist < results['Mean Distance'].max():\n",
    "#                     row_to_replace = results['Mean Distance'].idxmax()\n",
    "#                     results.loc[row_to_replace] = [100*E1,100*E2,100*E3,100*E4,mean_dist]\n",
    "# print(mean_dist)"
   ]
  },
  {
   "cell_type": "code",
   "execution_count": null,
   "metadata": {
    "executionInfo": {
     "elapsed": 14865392,
     "status": "ok",
     "timestamp": 1631698062362,
     "user": {
      "displayName": "Chu-Ming Chang",
      "photoUrl": "https://lh3.googleusercontent.com/a-/AOh14GhX3zgYH_Dy7b1zoaMR1IikJtqdvp5AZwruZwVmNw=s64",
      "userId": "03946152854230403908"
     },
     "user_tz": 420
    },
    "id": "Lt0ksORisTnY",
    "outputId": "668acf2f-371c-40b0-fb94-32b93ef1a122"
   },
   "outputs": [
    {
     "name": "stdout",
     "output_type": "stream",
     "text": [
      "CPU times: user 2min 25s, sys: 1min 53s, total: 4min 18s\n",
      "Wall time: 4h 7min 45s\n"
     ]
    }
   ],
   "source": [
    "%%time\n",
    "# parallel algorithm test\n",
    "from multiprocessing import Pool, cpu_count\n",
    "\n",
    "MAX_WORKERS = cpu_count()\n",
    "\n",
    "test_values_transformed = [test_value/(1+test_value) for test_value in test_values]\n",
    "flowdata_sum = [sum(params) for params in flowdata_array]\n",
    "flowdata_norm = [np.linalg.norm(params) for params in flowdata_array]\n",
    "\n",
    "def parallel(E1, w):\n",
    "    results_array = [[0, 0, 0, 0, 999999 - row_num] for row_num in range(num_results)]\n",
    "    results = pd.DataFrame(results_array, columns=['KTB E1(%)', 'KTC E2(%)', 'SKB E3(%)', 'SKC E4(%)', 'Mean Distance'])\n",
    "    for E2, x in zip(test_values, test_values_transformed):\n",
    "        for E3, y in zip(test_values, test_values_transformed):\n",
    "            for E4, z in zip(test_values, test_values_transformed):\n",
    "                mean_dist = 0\n",
    "                for params, params_sum, params_norm in zip(flowdata_array, flowdata_sum, flowdata_norm):\n",
    "                  mean_dist += abs(np.dot(params, [w,x,y,z]) - params_sum)/params_norm\n",
    "                mean_dist /= len(flowdata_array)\n",
    "                if mean_dist < results['Mean Distance'].max():\n",
    "                    row_to_replace = results['Mean Distance'].idxmax()\n",
    "                    results.loc[row_to_replace] = [100*E1,100*E2,100*E3,100*E4,mean_dist]\n",
    "    return results\n",
    "\n",
    "pool = Pool(processes=MAX_WORKERS)\n",
    "rets = pool.starmap(parallel, zip(test_values, test_values_transformed))\n",
    "results = pd.concat(rets)\n",
    "results"
   ]
  },
  {
   "cell_type": "code",
   "execution_count": null,
   "metadata": {
    "id": "vSupRQ-LoudO"
   },
   "outputs": [],
   "source": [
    "results = ret.sort_values(by='Mean Distance')[:num_results]\n",
    "results = results.set_axis(range(1,num_results+1))\n",
    "results"
   ]
  },
  {
   "cell_type": "code",
   "execution_count": null,
   "metadata": {
    "id": "NF_bzV5qoudP"
   },
   "outputs": [],
   "source": [
    "import matplotlib.pyplot as plt\n",
    "error_plot_results = results[[\"KTB E1(%)\",\"KTC E2(%)\",\"SKB E3(%)\",\"SKC E4(%)\"]]\n",
    "ax = error_plot_results.plot()\n",
    "ax.set_xlabel(\"Rank\")\n",
    "ax.set_ylabel(\"Error (%)\");"
   ]
  },
  {
   "cell_type": "code",
   "execution_count": null,
   "metadata": {
    "id": "1U_ZL1rsoudQ"
   },
   "outputs": [],
   "source": [
    "results.to_csv('res_flowerror_largesearch2.csv')\n",
    "%download_file res_flowerror_2017_largesearch.csv"
   ]
  }
 ],
 "metadata": {
  "accelerator": "GPU",
  "colab": {
   "collapsed_sections": [],
   "last_runtime": {
    "build_target": "//cloud/ml/iacp/tools/colab/blocks:notebook",
    "kind": "shared"
   },
   "name": "flowerror_largesearch2.ipynb",
   "provenance": []
  },
  "kernelspec": {
   "display_name": "Python 3 (ipykernel)",
   "language": "python",
   "name": "python3"
  },
  "language_info": {
   "codemirror_mode": {
    "name": "ipython",
    "version": 3
   },
   "file_extension": ".py",
   "mimetype": "text/x-python",
   "name": "python",
   "nbconvert_exporter": "python",
   "pygments_lexer": "ipython3",
   "version": "3.9.7"
  }
 },
 "nbformat": 4,
 "nbformat_minor": 1
}
