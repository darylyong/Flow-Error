{
 "cells": [
  {
   "cell_type": "code",
   "execution_count": 1,
   "metadata": {},
   "outputs": [
    {
     "name": "stdout",
     "output_type": "stream",
     "text": [
      "Requirement already satisfied: numpy in c:\\users\\janli\\appdata\\local\\programs\\python\\python39\\lib\\site-packages (1.21.2)\n",
      "Requirement already satisfied: pandas in c:\\users\\janli\\appdata\\local\\programs\\python\\python39\\lib\\site-packages (1.3.2)\n",
      "Requirement already satisfied: numpy>=1.17.3 in c:\\users\\janli\\appdata\\local\\programs\\python\\python39\\lib\\site-packages (from pandas) (1.21.2)\n",
      "Requirement already satisfied: pytz>=2017.3 in c:\\users\\janli\\appdata\\local\\programs\\python\\python39\\lib\\site-packages (from pandas) (2021.1)\n",
      "Requirement already satisfied: python-dateutil>=2.7.3 in c:\\users\\janli\\appdata\\local\\programs\\python\\python39\\lib\\site-packages (from pandas) (2.8.2)\n",
      "Requirement already satisfied: six>=1.5 in c:\\users\\janli\\appdata\\local\\programs\\python\\python39\\lib\\site-packages (from python-dateutil>=2.7.3->pandas) (1.16.0)\n",
      "Requirement already satisfied: openpyxl in c:\\users\\janli\\appdata\\local\\programs\\python\\python39\\lib\\site-packages (3.0.7)\n",
      "Requirement already satisfied: et-xmlfile in c:\\users\\janli\\appdata\\local\\programs\\python\\python39\\lib\\site-packages (from openpyxl) (1.1.0)\n",
      "Requirement already satisfied: matplotlib in c:\\users\\janli\\appdata\\local\\programs\\python\\python39\\lib\\site-packages (3.4.3)\n",
      "Requirement already satisfied: pillow>=6.2.0 in c:\\users\\janli\\appdata\\local\\programs\\python\\python39\\lib\\site-packages (from matplotlib) (8.3.2)\n",
      "Requirement already satisfied: kiwisolver>=1.0.1 in c:\\users\\janli\\appdata\\local\\programs\\python\\python39\\lib\\site-packages (from matplotlib) (1.3.2)\n",
      "Requirement already satisfied: pyparsing>=2.2.1 in c:\\users\\janli\\appdata\\local\\programs\\python\\python39\\lib\\site-packages (from matplotlib) (2.4.7)\n",
      "Requirement already satisfied: cycler>=0.10 in c:\\users\\janli\\appdata\\local\\programs\\python\\python39\\lib\\site-packages (from matplotlib) (0.10.0)\n",
      "Requirement already satisfied: numpy>=1.16 in c:\\users\\janli\\appdata\\local\\programs\\python\\python39\\lib\\site-packages (from matplotlib) (1.21.2)\n",
      "Requirement already satisfied: python-dateutil>=2.7 in c:\\users\\janli\\appdata\\local\\programs\\python\\python39\\lib\\site-packages (from matplotlib) (2.8.2)\n",
      "Requirement already satisfied: six in c:\\users\\janli\\appdata\\local\\programs\\python\\python39\\lib\\site-packages (from cycler>=0.10->matplotlib) (1.16.0)\n"
     ]
    }
   ],
   "source": [
    "import time\n",
    "import sys\n",
    "!{sys.executable} -m pip install numpy\n",
    "!{sys.executable} -m pip install pandas\n",
    "!{sys.executable} -m pip install openpyxl\n",
    "!{sys.executable} -m pip install matplotlib\n",
    "import numpy as np\n",
    "import pandas as pd\n",
    "flowdata = pd.read_excel(r'./flowdata.xlsx', sheet_name='Scenario1')\n",
    "d2 = pd.read_excel(r'./flowdata.xlsx', sheet_name='Scenario2')\n",
    "d3 = pd.read_excel(r'./flowdata.xlsx', sheet_name='Scenario3')\n",
    "d4 = pd.read_excel(r'./flowdata.xlsx', sheet_name='Scenario5')\n",
    "flowdata = flowdata.append(d2, ignore_index=True)\n",
    "flowdata = flowdata.append(d3, ignore_index=True)\n",
    "flowdata = flowdata.append(d4, ignore_index=True)\n",
    "flowdata = flowdata[['KTB', 'KTC', 'SKB', 'SKC']] # ensure columns ordering is correct"
   ]
  },
  {
   "cell_type": "markdown",
   "metadata": {},
   "source": [
    "**Equation**:\n",
    "$$w\\times KTB+x\\times KTC-y\\times SKB-z\\times SKC = m = KTB + KTC - SKB - SKC$$\n",
    "\n",
    "where *m* is the observed mismatch between JRWW and SKL\n",
    "- Each set of flow values observed for KTB, KTC, SKB, SKC can be geometrically represented as a line in 4-dimensional space mapped by w, x, y, z\n",
    "\n",
    "$$w\\times KTB+x\\times KTC-y\\times SKB-z\\times SKC-(KTB + KTC - SKB - SKC)=0$$\n",
    "\n",
    "- By iterating through *test_values* for w, x, y, z, we find the point (w,x,y,z) that minimises the mean distance between (w,x,y,z) and all the lines\n",
    "\n",
    "$$\\sum distance = \\sum\\frac{|w\\times KTB+x\\times KTC-y\\times SKB-z\\times SKC-(KTB + KTC - SKB - SKC)|}{\\sqrt{KTB^2+KTC^2+SKB^2+SKC^2}}$$\n",
    "\n",
    "- Find *num_results* number of sample points that provide the *num_results* lowest mean distances\n",
    "- Each of w, x, y, z is equal to $\\frac{E}{1+E}$ where E is the actual flowmeter error"
   ]
  },
  {
   "cell_type": "code",
   "execution_count": 2,
   "metadata": {},
   "outputs": [
    {
     "data": {
      "text/html": [
       "<div>\n",
       "<style scoped>\n",
       "    .dataframe tbody tr th:only-of-type {\n",
       "        vertical-align: middle;\n",
       "    }\n",
       "\n",
       "    .dataframe tbody tr th {\n",
       "        vertical-align: top;\n",
       "    }\n",
       "\n",
       "    .dataframe thead th {\n",
       "        text-align: right;\n",
       "    }\n",
       "</style>\n",
       "<table border=\"1\" class=\"dataframe\">\n",
       "  <thead>\n",
       "    <tr style=\"text-align: right;\">\n",
       "      <th></th>\n",
       "      <th>KTB</th>\n",
       "      <th>KTC</th>\n",
       "      <th>SKB</th>\n",
       "      <th>SKC</th>\n",
       "    </tr>\n",
       "  </thead>\n",
       "  <tbody>\n",
       "    <tr>\n",
       "      <th>0</th>\n",
       "      <td>0.00</td>\n",
       "      <td>390.700</td>\n",
       "      <td>0.000</td>\n",
       "      <td>391.652</td>\n",
       "    </tr>\n",
       "    <tr>\n",
       "      <th>1</th>\n",
       "      <td>0.00</td>\n",
       "      <td>388.249</td>\n",
       "      <td>0.000</td>\n",
       "      <td>388.414</td>\n",
       "    </tr>\n",
       "    <tr>\n",
       "      <th>2</th>\n",
       "      <td>0.00</td>\n",
       "      <td>408.937</td>\n",
       "      <td>0.000</td>\n",
       "      <td>407.195</td>\n",
       "    </tr>\n",
       "    <tr>\n",
       "      <th>3</th>\n",
       "      <td>0.00</td>\n",
       "      <td>413.085</td>\n",
       "      <td>0.000</td>\n",
       "      <td>407.480</td>\n",
       "    </tr>\n",
       "    <tr>\n",
       "      <th>4</th>\n",
       "      <td>0.00</td>\n",
       "      <td>408.314</td>\n",
       "      <td>0.000</td>\n",
       "      <td>400.752</td>\n",
       "    </tr>\n",
       "    <tr>\n",
       "      <th>...</th>\n",
       "      <td>...</td>\n",
       "      <td>...</td>\n",
       "      <td>...</td>\n",
       "      <td>...</td>\n",
       "    </tr>\n",
       "    <tr>\n",
       "      <th>61</th>\n",
       "      <td>466.50</td>\n",
       "      <td>388.900</td>\n",
       "      <td>473.674</td>\n",
       "      <td>382.661</td>\n",
       "    </tr>\n",
       "    <tr>\n",
       "      <th>62</th>\n",
       "      <td>455.60</td>\n",
       "      <td>396.978</td>\n",
       "      <td>463.631</td>\n",
       "      <td>388.751</td>\n",
       "    </tr>\n",
       "    <tr>\n",
       "      <th>63</th>\n",
       "      <td>462.55</td>\n",
       "      <td>393.934</td>\n",
       "      <td>470.214</td>\n",
       "      <td>386.982</td>\n",
       "    </tr>\n",
       "    <tr>\n",
       "      <th>64</th>\n",
       "      <td>455.90</td>\n",
       "      <td>399.476</td>\n",
       "      <td>462.340</td>\n",
       "      <td>391.067</td>\n",
       "    </tr>\n",
       "    <tr>\n",
       "      <th>65</th>\n",
       "      <td>459.89</td>\n",
       "      <td>403.290</td>\n",
       "      <td>467.004</td>\n",
       "      <td>395.121</td>\n",
       "    </tr>\n",
       "  </tbody>\n",
       "</table>\n",
       "<p>66 rows × 4 columns</p>\n",
       "</div>"
      ],
      "text/plain": [
       "       KTB      KTC      SKB      SKC\n",
       "0     0.00  390.700    0.000  391.652\n",
       "1     0.00  388.249    0.000  388.414\n",
       "2     0.00  408.937    0.000  407.195\n",
       "3     0.00  413.085    0.000  407.480\n",
       "4     0.00  408.314    0.000  400.752\n",
       "..     ...      ...      ...      ...\n",
       "61  466.50  388.900  473.674  382.661\n",
       "62  455.60  396.978  463.631  388.751\n",
       "63  462.55  393.934  470.214  386.982\n",
       "64  455.90  399.476  462.340  391.067\n",
       "65  459.89  403.290  467.004  395.121\n",
       "\n",
       "[66 rows x 4 columns]"
      ]
     },
     "execution_count": 2,
     "metadata": {},
     "output_type": "execute_result"
    }
   ],
   "source": [
    "flowdata"
   ]
  },
  {
   "cell_type": "markdown",
   "metadata": {},
   "source": [
    "**Adjustable Parameters:**"
   ]
  },
  {
   "cell_type": "code",
   "execution_count": 3,
   "metadata": {},
   "outputs": [],
   "source": [
    "# number of results to display at the end\n",
    "num_results = 10\n",
    "# error upper bound, lower bound and interval (in %)\n",
    "lower_bound_error = -10\n",
    "upper_bound_error = 10\n",
    "error_interval = 1"
   ]
  },
  {
   "cell_type": "markdown",
   "metadata": {},
   "source": [
    "***"
   ]
  },
  {
   "cell_type": "code",
   "execution_count": 4,
   "metadata": {},
   "outputs": [],
   "source": [
    "# initialisation\n",
    "test_values = np.arange(lower_bound_error/error_interval, upper_bound_error/error_interval + 1)/(100/error_interval)\n",
    "# introduce offset to ensure that every value is unique\n",
    "results_array = [[0, 0, 0, 0, 999999 - row_num] for row_num in range(num_results)]\n",
    "results = pd.DataFrame(results_array, columns=['KTB E1(%)', 'KTC E2(%)', 'SKB E3(%)', 'SKC E4(%)', 'Mean Distance'])"
   ]
  },
  {
   "cell_type": "code",
   "execution_count": 5,
   "metadata": {},
   "outputs": [],
   "source": [
    "# prepare raw data\n",
    "flowdata_temp = flowdata\n",
    "# change the sign of SKB and SKC columns for simpler arithmetic\n",
    "flowdata_temp['SKB'] *= -1\n",
    "flowdata_temp['SKC'] *= -1\n",
    "flowdata_array = flowdata_temp.to_numpy()"
   ]
  },
  {
   "cell_type": "markdown",
   "metadata": {},
   "source": [
    "The following algorithm attempts to find the best values of flowmeter errors E1, E2, E3, E4 that minimise the mean euclidean distances between the final solution point and the lines formed by all the data provided. The *num_results* best solutions are stored and displayed below."
   ]
  },
  {
   "cell_type": "code",
   "execution_count": 6,
   "metadata": {},
   "outputs": [
    {
     "name": "stdout",
     "output_type": "stream",
     "text": [
      "Wall time: 1min 25s\n"
     ]
    }
   ],
   "source": [
    "%%time\n",
    "# main algorithm\n",
    "for E1 in np.arange(-1,0,0.05)/100:\n",
    "    w = E1/(1+E1)\n",
    "    for E2 in np.arange(2.5,3.5,0.05)/100:\n",
    "        x = E2/(1+E2)\n",
    "        for E3 in np.arange(0.5,1.5,0.05)/100:\n",
    "            y = E3/(1+E3)\n",
    "            for E4 in np.arange(0.8,1.8,0.05)/100:\n",
    "                z = E4/(1+E4)\n",
    "                mean_dist = 0\n",
    "                for params in flowdata_array:\n",
    "                    m = sum(params) # mismatch\n",
    "                    dist = abs(np.dot(params, [w,x,y,z]) - m)/np.linalg.norm(params)\n",
    "                    mean_dist += dist\n",
    "                mean_dist /= len(flowdata_array)\n",
    "                if mean_dist < results['Mean Distance'].max():\n",
    "                    row_to_replace = results['Mean Distance'].idxmax()\n",
    "                    results.loc[row_to_replace] = [100*E1,100*E2,100*E3,100*E4,mean_dist]"
   ]
  },
  {
   "cell_type": "code",
   "execution_count": 7,
   "metadata": {},
   "outputs": [
    {
     "data": {
      "text/html": [
       "<div>\n",
       "<style scoped>\n",
       "    .dataframe tbody tr th:only-of-type {\n",
       "        vertical-align: middle;\n",
       "    }\n",
       "\n",
       "    .dataframe tbody tr th {\n",
       "        vertical-align: top;\n",
       "    }\n",
       "\n",
       "    .dataframe thead th {\n",
       "        text-align: right;\n",
       "    }\n",
       "</style>\n",
       "<table border=\"1\" class=\"dataframe\">\n",
       "  <thead>\n",
       "    <tr style=\"text-align: right;\">\n",
       "      <th></th>\n",
       "      <th>KTB E1(%)</th>\n",
       "      <th>KTC E2(%)</th>\n",
       "      <th>SKB E3(%)</th>\n",
       "      <th>SKC E4(%)</th>\n",
       "      <th>Mean Distance</th>\n",
       "    </tr>\n",
       "  </thead>\n",
       "  <tbody>\n",
       "    <tr>\n",
       "      <th>1</th>\n",
       "      <td>-0.10</td>\n",
       "      <td>3.35</td>\n",
       "      <td>1.30</td>\n",
       "      <td>1.75</td>\n",
       "      <td>0.002337</td>\n",
       "    </tr>\n",
       "    <tr>\n",
       "      <th>2</th>\n",
       "      <td>-0.15</td>\n",
       "      <td>3.35</td>\n",
       "      <td>1.25</td>\n",
       "      <td>1.75</td>\n",
       "      <td>0.002338</td>\n",
       "    </tr>\n",
       "    <tr>\n",
       "      <th>3</th>\n",
       "      <td>-0.15</td>\n",
       "      <td>3.30</td>\n",
       "      <td>1.25</td>\n",
       "      <td>1.70</td>\n",
       "      <td>0.002338</td>\n",
       "    </tr>\n",
       "    <tr>\n",
       "      <th>4</th>\n",
       "      <td>-0.20</td>\n",
       "      <td>3.25</td>\n",
       "      <td>1.20</td>\n",
       "      <td>1.65</td>\n",
       "      <td>0.002339</td>\n",
       "    </tr>\n",
       "    <tr>\n",
       "      <th>5</th>\n",
       "      <td>-0.20</td>\n",
       "      <td>3.30</td>\n",
       "      <td>1.20</td>\n",
       "      <td>1.70</td>\n",
       "      <td>0.002339</td>\n",
       "    </tr>\n",
       "    <tr>\n",
       "      <th>6</th>\n",
       "      <td>-0.05</td>\n",
       "      <td>3.35</td>\n",
       "      <td>1.35</td>\n",
       "      <td>1.75</td>\n",
       "      <td>0.002340</td>\n",
       "    </tr>\n",
       "    <tr>\n",
       "      <th>7</th>\n",
       "      <td>-0.25</td>\n",
       "      <td>3.20</td>\n",
       "      <td>1.15</td>\n",
       "      <td>1.60</td>\n",
       "      <td>0.002340</td>\n",
       "    </tr>\n",
       "    <tr>\n",
       "      <th>8</th>\n",
       "      <td>-0.10</td>\n",
       "      <td>3.30</td>\n",
       "      <td>1.30</td>\n",
       "      <td>1.70</td>\n",
       "      <td>0.002341</td>\n",
       "    </tr>\n",
       "    <tr>\n",
       "      <th>9</th>\n",
       "      <td>-0.25</td>\n",
       "      <td>3.25</td>\n",
       "      <td>1.15</td>\n",
       "      <td>1.65</td>\n",
       "      <td>0.002341</td>\n",
       "    </tr>\n",
       "    <tr>\n",
       "      <th>10</th>\n",
       "      <td>-0.30</td>\n",
       "      <td>3.15</td>\n",
       "      <td>1.10</td>\n",
       "      <td>1.55</td>\n",
       "      <td>0.002341</td>\n",
       "    </tr>\n",
       "  </tbody>\n",
       "</table>\n",
       "</div>"
      ],
      "text/plain": [
       "    KTB E1(%)  KTC E2(%)  SKB E3(%)  SKC E4(%)  Mean Distance\n",
       "1       -0.10       3.35       1.30       1.75       0.002337\n",
       "2       -0.15       3.35       1.25       1.75       0.002338\n",
       "3       -0.15       3.30       1.25       1.70       0.002338\n",
       "4       -0.20       3.25       1.20       1.65       0.002339\n",
       "5       -0.20       3.30       1.20       1.70       0.002339\n",
       "6       -0.05       3.35       1.35       1.75       0.002340\n",
       "7       -0.25       3.20       1.15       1.60       0.002340\n",
       "8       -0.10       3.30       1.30       1.70       0.002341\n",
       "9       -0.25       3.25       1.15       1.65       0.002341\n",
       "10      -0.30       3.15       1.10       1.55       0.002341"
      ]
     },
     "execution_count": 7,
     "metadata": {},
     "output_type": "execute_result"
    }
   ],
   "source": [
    "results = results.sort_values(by='Mean Distance')\n",
    "results = results.set_axis(range(1,num_results+1))\n",
    "results"
   ]
  },
  {
   "cell_type": "code",
   "execution_count": 8,
   "metadata": {},
   "outputs": [
    {
     "data": {
      "image/png": "[encoded data removed]",
      "text/plain": [
       "<Figure size 432x288 with 1 Axes>"
      ]
     },
     "metadata": {
      "needs_background": "light"
     },
     "output_type": "display_data"
    }
   ],
   "source": [
    "import matplotlib.pyplot as plt\n",
    "error_plot_results = results[[\"KTB E1(%)\",\"KTC E2(%)\",\"SKB E3(%)\",\"SKC E4(%)\"]]\n",
    "ax = error_plot_results.plot()\n",
    "ax.set_xlabel(\"Rank\")\n",
    "ax.set_ylabel(\"Error (%)\");"
   ]
  },
  {
   "cell_type": "code",
   "execution_count": 9,
   "metadata": {},
   "outputs": [],
   "source": [
    "results.to_csv('res_flowerror_convergence_v2.csv')"
   ]
  }
 ],
 "metadata": {
  "kernelspec": {
   "display_name": "Python 3 (ipykernel)",
   "language": "python",
   "name": "python3"
  },
  "language_info": {
   "codemirror_mode": {
    "name": "ipython",
    "version": 3
   },
   "file_extension": ".py",
   "mimetype": "text/x-python",
   "name": "python",
   "nbconvert_exporter": "python",
   "pygments_lexer": "ipython3",
   "version": "3.9.7"
  }
 },
 "nbformat": 4,
 "nbformat_minor": 4
}
